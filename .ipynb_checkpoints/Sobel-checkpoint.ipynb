{
 "cells": [
  {
   "cell_type": "code",
   "execution_count": 5,
   "metadata": {
    "scrolled": true
   },
   "outputs": [],
   "source": [
    "import numpy as np\n",
    "import cv2\n",
    "import matplotlib.pyplot as plt\n",
    "import matplotlib.image as mpimg\n",
    "import pickle\n",
    "\n",
    "image = mpimg.imread('signs_vehicles_xygrad.jpg')\n",
    "\n",
    "def abs_sobel_thresh(img, orient='x', sobel_kernel=3, thresh=(0,255)):\n",
    "    gray = cv2.cvtColor(img, cv2.COLOR_RGB2GRAY)\n",
    "    if orient == 'x':\n",
    "        dir = np.array([1,0])\n",
    "    elif orient == 'y':\n",
    "        dir = np.array([0, 1])\n",
    "        \n",
    "    sobel = cv2.Sobel(gray, cv2.CV_64F, dir[0], dir[1], ksize=sobel_kernel)\n",
    "    abs_sobel = np.absolute(sobel)\n",
    "    scaled_sobel = np.uint8(255 * abs_sobel / np.max(abs_sobel))\n",
    "    binary_output = np.zeros_like(scaled_sobel)\n",
    "    binary_output[(scaled_sobel >= thresh[0]) & (scaled_sobel <= thresh[1])] = 1\n",
    "    \n",
    "    return binary_output \n",
    "\n",
    "# the function that applies Sobel x and y, then compute the magnitude of the gradient and applies a threshold\n",
    "def mag_thresh(img, sobel_kernel=3, mag_thresh=(0,255)):\n",
    "    gray = cv2.cvtColor(img, cv2.COLOR_RGB2GRAY)\n",
    "    sobelx = cv2.Sobel(gray, cv2.CV_64F, 1, 0, ksize=sobel_kernel)\n",
    "    sobely = cv2.Sobel(gray, cv2.CV_64F, 0, 1, ksize=sobel_kernel)\n",
    "    abs_sobelx = np.absolute(sobelx)\n",
    "    abs_sobely = np.absolute(sobely)\n",
    "    sobel = np.sqrt(np.power(abs_sobelx, 2) + np.power(abs_sobely, 2))\n",
    "    scale_factor = np.max(sobel)/ 255\n",
    "    gradmag = (sobel/scale_factor).astype(np.uint8)\n",
    "    binary_output = np.zeros_like(gradmag)\n",
    "    binary_output[(gradmag >= mag_thresh[0]) & (gradmag <= mag_thresh[1])] =1\n",
    "    \n",
    "    return binary_output\n",
    "\n",
    "def dir_threshold(img, sobel_kernel=3, thresh=(0, np.pi/2)):\n",
    "    gray = cv2.cvtColor(img, cv2.COLOR_RGB2GRAY)\n",
    "    sobelx = cv2.Sobel(gray, cv2.CV_64F, 1, 0, ksize=sobel_kernel)\n",
    "    sobely = cv2.Sobel(gray, cv2.CV_64F, 0, 1, ksize=sobel_kernel)\n",
    "    abs_sobelx = np.absolute(sobelx)\n",
    "    abs_sobely = np.absolute(sobely)\n",
    "    dir_grad = np.arctan2(abs_sobely, abs_sobelx)\n",
    "    binary_output = np.zeros_like(dir_grad)\n",
    "    binary_output[(dir_grad >= thresh[0]) & (dir_grad <= thresh[1])] = 1\n",
    "    return binary_output \n",
    "\n",
    "\n",
    "ksize = 3\n",
    "\n",
    "gradx = abs_sobel_thresh(image, orient='x', sobel_kernel = ksize, thresh=(0, 255))\n",
    "grady = abs_sobel_thresh(image, orient='y', sobel_kernel = ksize, thresh=(0, 255))\n",
    "\n",
    "mag_binary = mag_thresh(image, sobel_kernel=ksize, mag_thresh=(0,255))\n",
    "dir_binary = dir_threshold(image, sobel_kernel=ksize, thresh=(0, np.pi/2))\n",
    "\n",
    "combined = np.zeros_like(dir_binary)\n",
    "combined[ ((gradx == 1) & (grady == 1)) | ((mag_binary==1) & (dir_binary==1))] = 1\n",
    "\n",
    "\n",
    "# plot the result\n",
    "f, (ax1, ax2) = plt.subplots(1, 2, figsize=(24, 9))\n",
    "f.tight_layout()\n",
    "ax1.imshow(image)\n",
    "\n"
   ]
  },
  {
   "cell_type": "code",
   "execution_count": null,
   "metadata": {},
   "outputs": [],
   "source": []
  },
  {
   "cell_type": "code",
   "execution_count": null,
   "metadata": {},
   "outputs": [],
   "source": []
  }
 ],
 "metadata": {
  "kernelspec": {
   "display_name": "Python 2",
   "language": "python",
   "name": "python2"
  },
  "language_info": {
   "codemirror_mode": {
    "name": "ipython",
    "version": 3
   },
   "file_extension": ".py",
   "mimetype": "text/x-python",
   "name": "python",
   "nbconvert_exporter": "python",
   "pygments_lexer": "ipython3",
   "version": "3.5.2"
  }
 },
 "nbformat": 4,
 "nbformat_minor": 2
}
